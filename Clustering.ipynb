{
  "nbformat": 4,
  "nbformat_minor": 0,
  "metadata": {
    "colab": {
      "provenance": [],
      "authorship_tag": "ABX9TyPkoNoxo3gIuU6vo/AP9rVZ",
      "include_colab_link": true
    },
    "kernelspec": {
      "name": "python3",
      "display_name": "Python 3"
    },
    "language_info": {
      "name": "python"
    }
  },
  "cells": [
    {
      "cell_type": "markdown",
      "metadata": {
        "id": "view-in-github",
        "colab_type": "text"
      },
      "source": [
        "<a href=\"https://colab.research.google.com/github/stevejj4/Apache-Spark/blob/main/Clustering.ipynb\" target=\"_parent\"><img src=\"https://colab.research.google.com/assets/colab-badge.svg\" alt=\"Open In Colab\"/></a>"
      ]
    },
    {
      "cell_type": "code",
      "execution_count": null,
      "metadata": {
        "id": "F7tZHImCAHml"
      },
      "outputs": [],
      "source": [
        "# Unsupervisedd learning algorithm\n",
        "# K-means\n",
        "# Complexity of the iteration\n",
        "# single linkage\n",
        "# complete linkage\n",
        "# average linkage\n",
        "# ward linkage\n",
        "# using spark because of big data\n"
      ]
    },
    {
      "cell_type": "code",
      "source": [
        "!pip install pyspark\n",
        "!pip install findspark # simplifies the process of using Apache Spark python\n"
      ],
      "metadata": {
        "colab": {
          "base_uri": "https://localhost:8080/"
        },
        "id": "nWdX3B1SCXPL",
        "outputId": "9aef7024-bd5e-4249-b030-6d24d67307eb"
      },
      "execution_count": 1,
      "outputs": [
        {
          "output_type": "stream",
          "name": "stdout",
          "text": [
            "Collecting pyspark\n",
            "  Downloading pyspark-3.5.2.tar.gz (317.3 MB)\n",
            "\u001b[2K     \u001b[90m━━━━━━━━━━━━━━━━━━━━━━━━━━━━━━━━━━━━━━━━\u001b[0m \u001b[32m317.3/317.3 MB\u001b[0m \u001b[31m4.0 MB/s\u001b[0m eta \u001b[36m0:00:00\u001b[0m\n",
            "\u001b[?25h  Preparing metadata (setup.py) ... \u001b[?25l\u001b[?25hdone\n",
            "Requirement already satisfied: py4j==0.10.9.7 in /usr/local/lib/python3.10/dist-packages (from pyspark) (0.10.9.7)\n",
            "Building wheels for collected packages: pyspark\n",
            "  Building wheel for pyspark (setup.py) ... \u001b[?25l\u001b[?25hdone\n",
            "  Created wheel for pyspark: filename=pyspark-3.5.2-py2.py3-none-any.whl size=317812365 sha256=409475f25d446a8d9a7c808bee0bab311a700fb9ff9f0f7150e5455805e391ce\n",
            "  Stored in directory: /root/.cache/pip/wheels/34/34/bd/03944534c44b677cd5859f248090daa9fb27b3c8f8e5f49574\n",
            "Successfully built pyspark\n",
            "Installing collected packages: pyspark\n",
            "Successfully installed pyspark-3.5.2\n",
            "Collecting findspark\n",
            "  Downloading findspark-2.0.1-py2.py3-none-any.whl.metadata (352 bytes)\n",
            "Downloading findspark-2.0.1-py2.py3-none-any.whl (4.4 kB)\n",
            "Installing collected packages: findspark\n",
            "Successfully installed findspark-2.0.1\n"
          ]
        }
      ]
    },
    {
      "cell_type": "code",
      "source": [
        "import findspark\n",
        "findspark.init()\n",
        "from pyspark.sql import SparkSession\n",
        "from pyspark.ml.feature import VectorAssembler\n",
        "from pyspark.ml.clustering import KMeans\n",
        "\n"
      ],
      "metadata": {
        "id": "D7ViEuUmCseJ"
      },
      "execution_count": 2,
      "outputs": []
    },
    {
      "cell_type": "code",
      "source": [
        "# creating a spark session\n",
        "spark = SparkSession.builder.appName('Clustering using spark').getOrCreate()"
      ],
      "metadata": {
        "id": "01nQyAxSDcuK"
      },
      "execution_count": 3,
      "outputs": []
    },
    {
      "cell_type": "code",
      "source": [
        "!wget https://cf-courses-data.s3.us.cloud-object-storage.appdomain.cloud/IBM-BD0231EN-SkillsNetwork/datasets/customers.csv\n"
      ],
      "metadata": {
        "colab": {
          "base_uri": "https://localhost:8080/"
        },
        "id": "qjnNvaJrELFK",
        "outputId": "e8a2c327-182e-46c8-f291-10f3648c67f9"
      },
      "execution_count": 6,
      "outputs": [
        {
          "output_type": "stream",
          "name": "stdout",
          "text": [
            "--2024-08-25 10:30:01--  https://cf-courses-data.s3.us.cloud-object-storage.appdomain.cloud/IBM-BD0231EN-SkillsNetwork/datasets/customers.csv\n",
            "Resolving cf-courses-data.s3.us.cloud-object-storage.appdomain.cloud (cf-courses-data.s3.us.cloud-object-storage.appdomain.cloud)... 169.63.118.104\n",
            "Connecting to cf-courses-data.s3.us.cloud-object-storage.appdomain.cloud (cf-courses-data.s3.us.cloud-object-storage.appdomain.cloud)|169.63.118.104|:443... connected.\n",
            "HTTP request sent, awaiting response... 200 OK\n",
            "Length: 8909 (8.7K) [text/csv]\n",
            "Saving to: ‘customers.csv’\n",
            "\n",
            "customers.csv       100%[===================>]   8.70K  --.-KB/s    in 0s      \n",
            "\n",
            "2024-08-25 10:30:02 (161 MB/s) - ‘customers.csv’ saved [8909/8909]\n",
            "\n"
          ]
        }
      ]
    },
    {
      "cell_type": "code",
      "source": [
        "# load the data in a csv file\n",
        "df = spark.read.csv(\"customers.csv\", header=True, inferSchema=True)\n",
        "df.show(5)"
      ],
      "metadata": {
        "colab": {
          "base_uri": "https://localhost:8080/"
        },
        "id": "2yxYtJnhE_pT",
        "outputId": "16730ae4-a8be-445c-e6ac-6165d24f25e8"
      },
      "execution_count": 7,
      "outputs": [
        {
          "output_type": "stream",
          "name": "stdout",
          "text": [
            "+----------+----+-------+-----------+\n",
            "|Fresh_Food|Milk|Grocery|Frozen_Food|\n",
            "+----------+----+-------+-----------+\n",
            "|     12669|9656|   7561|        214|\n",
            "|      7057|9810|   9568|       1762|\n",
            "|      6353|8808|   7684|       2405|\n",
            "|     13265|1196|   4221|       6404|\n",
            "|     22615|5410|   7198|       3915|\n",
            "+----------+----+-------+-----------+\n",
            "only showing top 5 rows\n",
            "\n"
          ]
        }
      ]
    },
    {
      "cell_type": "code",
      "source": [
        "df.printSchema()"
      ],
      "metadata": {
        "colab": {
          "base_uri": "https://localhost:8080/"
        },
        "id": "oIeREQaEFoPn",
        "outputId": "034cdaac-59a7-4da8-ba3c-dc30c8fa152a"
      },
      "execution_count": 8,
      "outputs": [
        {
          "output_type": "stream",
          "name": "stdout",
          "text": [
            "root\n",
            " |-- Fresh_Food: integer (nullable = true)\n",
            " |-- Milk: integer (nullable = true)\n",
            " |-- Grocery: integer (nullable = true)\n",
            " |-- Frozen_Food: integer (nullable = true)\n",
            "\n"
          ]
        }
      ]
    },
    {
      "cell_type": "code",
      "source": [
        "# creating a feature vector\n",
        "feature_cols = ['Fresh_Food','Milk','Grocery','Frozen_Food']\n",
        "assembler = VectorAssembler(inputCols=feature_cols, outputCol='features')\n",
        "df = assembler.transform(df)\n",
        "df.show(5)"
      ],
      "metadata": {
        "colab": {
          "base_uri": "https://localhost:8080/"
        },
        "id": "E2FC5Fy6FxN4",
        "outputId": "0dfe4aee-107d-4013-829a-7a7d56cb6168"
      },
      "execution_count": 9,
      "outputs": [
        {
          "output_type": "stream",
          "name": "stdout",
          "text": [
            "+----------+----+-------+-----------+--------------------+\n",
            "|Fresh_Food|Milk|Grocery|Frozen_Food|            features|\n",
            "+----------+----+-------+-----------+--------------------+\n",
            "|     12669|9656|   7561|        214|[12669.0,9656.0,7...|\n",
            "|      7057|9810|   9568|       1762|[7057.0,9810.0,95...|\n",
            "|      6353|8808|   7684|       2405|[6353.0,8808.0,76...|\n",
            "|     13265|1196|   4221|       6404|[13265.0,1196.0,4...|\n",
            "|     22615|5410|   7198|       3915|[22615.0,5410.0,7...|\n",
            "+----------+----+-------+-----------+--------------------+\n",
            "only showing top 5 rows\n",
            "\n"
          ]
        }
      ]
    },
    {
      "cell_type": "code",
      "source": [
        "#Algorith is KMeans\n",
        "number_of_clusters = 3"
      ],
      "metadata": {
        "id": "BnzYmY5BGPMJ"
      },
      "execution_count": 10,
      "outputs": []
    },
    {
      "cell_type": "code",
      "source": [
        "# In cell ipython-input-14-afdde2110c78\n",
        "kmeans = KMeans(k = number_of_clusters) # creating a clustering model\n",
        "\n",
        "# In cell ipython-input-16-afdde2110c78\n",
        "# Fitting and training the model\n",
        "model = kmeans.fit(df)"
      ],
      "metadata": {
        "id": "XITd-EseGYJX"
      },
      "execution_count": 17,
      "outputs": []
    },
    {
      "cell_type": "code",
      "source": [
        "# Make predictions on the dataset\n",
        "predictions = model.transform(df)"
      ],
      "metadata": {
        "id": "-CbMWJH-Gw5L"
      },
      "execution_count": 18,
      "outputs": []
    },
    {
      "cell_type": "code",
      "source": [
        "# display the result\n",
        "predictions.show(5)"
      ],
      "metadata": {
        "colab": {
          "base_uri": "https://localhost:8080/"
        },
        "id": "PO7fe9XgHl_U",
        "outputId": "b7612f71-476c-4a74-e8c1-12a36a8d82c7"
      },
      "execution_count": 19,
      "outputs": [
        {
          "output_type": "stream",
          "name": "stdout",
          "text": [
            "+----------+----+-------+-----------+--------------------+----------+\n",
            "|Fresh_Food|Milk|Grocery|Frozen_Food|            features|prediction|\n",
            "+----------+----+-------+-----------+--------------------+----------+\n",
            "|     12669|9656|   7561|        214|[12669.0,9656.0,7...|         0|\n",
            "|      7057|9810|   9568|       1762|[7057.0,9810.0,95...|         0|\n",
            "|      6353|8808|   7684|       2405|[6353.0,8808.0,76...|         0|\n",
            "|     13265|1196|   4221|       6404|[13265.0,1196.0,4...|         0|\n",
            "|     22615|5410|   7198|       3915|[22615.0,5410.0,7...|         1|\n",
            "+----------+----+-------+-----------+--------------------+----------+\n",
            "only showing top 5 rows\n",
            "\n"
          ]
        }
      ]
    },
    {
      "cell_type": "code",
      "source": [
        "# How many customers are there in each cluster\n",
        "predictions.groupBy('prediction').count().show()"
      ],
      "metadata": {
        "colab": {
          "base_uri": "https://localhost:8080/"
        },
        "id": "o_mgJz5cHtnk",
        "outputId": "86f1556b-ace7-44c4-f94e-7221156a69e6"
      },
      "execution_count": 20,
      "outputs": [
        {
          "output_type": "stream",
          "name": "stdout",
          "text": [
            "+----------+-----+\n",
            "|prediction|count|\n",
            "+----------+-----+\n",
            "|         1|   74|\n",
            "|         2|   47|\n",
            "|         0|  319|\n",
            "+----------+-----+\n",
            "\n"
          ]
        }
      ]
    },
    {
      "cell_type": "code",
      "source": [
        "spark.stop()"
      ],
      "metadata": {
        "id": "_TyGA_H1H4cK"
      },
      "execution_count": 21,
      "outputs": []
    }
  ]
}