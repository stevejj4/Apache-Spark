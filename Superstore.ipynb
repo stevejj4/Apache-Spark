{
  "nbformat": 4,
  "nbformat_minor": 0,
  "metadata": {
    "colab": {
      "provenance": [],
      "authorship_tag": "ABX9TyNVxFVOF4GrFjlwAtDpTp9n",
      "include_colab_link": true
    },
    "kernelspec": {
      "name": "python3",
      "display_name": "Python 3"
    },
    "language_info": {
      "name": "python"
    }
  },
  "cells": [
    {
      "cell_type": "markdown",
      "metadata": {
        "id": "view-in-github",
        "colab_type": "text"
      },
      "source": [
        "<a href=\"https://colab.research.google.com/github/stevejj4/Apache-Spark/blob/main/Superstore.ipynb\" target=\"_parent\"><img src=\"https://colab.research.google.com/assets/colab-badge.svg\" alt=\"Open In Colab\"/></a>"
      ]
    },
    {
      "cell_type": "code",
      "execution_count": 1,
      "metadata": {
        "id": "-zvspKsqMWbN"
      },
      "outputs": [],
      "source": [
        "from google.colab import auth #Authorizing google colab\n",
        "auth.authenticate_user()\n",
        "import gspread #credentials for google sheet\n",
        "from google.auth import default\n",
        "creds,_ = default()\n",
        "gc = gspread.authorize(creds) #Authorizing the connection\n",
        "import pandas as pd\n",
        "worksheet = gc.open('Superstore').sheet1 #defining the worksheet\n",
        "rows = worksheet.get_all_values() #getting all values in list of row\n",
        "df = pd.DataFrame(rows)\n",
        "df.columns = df.iloc[0] #creating columns name\n",
        "df = df.iloc[1:]"
      ]
    },
    {
      "cell_type": "code",
      "source": [
        "df.shape"
      ],
      "metadata": {
        "colab": {
          "base_uri": "https://localhost:8080/"
        },
        "id": "NqxB3nmIORYT",
        "outputId": "7ea71642-ada5-458c-917b-223de409911b"
      },
      "execution_count": 2,
      "outputs": [
        {
          "output_type": "execute_result",
          "data": {
            "text/plain": [
              "(9994, 21)"
            ]
          },
          "metadata": {},
          "execution_count": 2
        }
      ]
    }
  ]
}