{
  "nbformat": 4,
  "nbformat_minor": 0,
  "metadata": {
    "colab": {
      "provenance": [],
      "authorship_tag": "ABX9TyOm6+5aqLTjxWXokRAeVvjn",
      "include_colab_link": true
    },
    "kernelspec": {
      "name": "python3",
      "display_name": "Python 3"
    },
    "language_info": {
      "name": "python"
    }
  },
  "cells": [
    {
      "cell_type": "markdown",
      "metadata": {
        "id": "view-in-github",
        "colab_type": "text"
      },
      "source": [
        "<a href=\"https://colab.research.google.com/github/stevejj4/Apache-Spark/blob/main/Superstore.ipynb\" target=\"_parent\"><img src=\"https://colab.research.google.com/assets/colab-badge.svg\" alt=\"Open In Colab\"/></a>"
      ]
    },
    {
      "cell_type": "code",
      "execution_count": 24,
      "metadata": {
        "id": "-zvspKsqMWbN"
      },
      "outputs": [],
      "source": [
        "# Data Ingestion and Cleaning\n",
        "\n",
        "from pyspark.sql import SparkSession\n",
        "from pyspark.sql.functions import col, to_date, year\n",
        "\n",
        "# Initializing Spark session\n",
        "spark = SparkSession.builder.appName(\"WelmartSalesAnalysis\").getOrCreate()\n",
        "\n",
        "# Loading data from Google Sheets into a Spark DataFrame\n",
        "from google.colab import auth\n",
        "auth.authenticate_user()\n",
        "import gspread\n",
        "from google.auth import default\n",
        "creds,_ = default()\n",
        "gc = gspread.authorize(creds)\n",
        "\n",
        "worksheet = gc.open('Superstore').sheet1\n",
        "rows = worksheet.get_all_values()\n",
        "headers = rows[0]\n",
        "data = rows[1:]\n"
      ]
    },
    {
      "cell_type": "code",
      "source": [
        "# Creating Spark DataFrame\n",
        "df = spark.createDataFrame(data, schema=headers)\n",
        "\n",
        "# Converting columns to appropriate data types\n",
        "df = df.withColumn(\"Sales\", col(\"Sales\").cast(\"float\")) \\\n",
        "       .withColumn(\"Quantity\", col(\"Quantity\").cast(\"int\")) \\\n",
        ".withColumn(\"Discount\", col(\"Discount\").cast(\"float\")) \\\n",
        "       .withColumn(\"Profit\", col(\"Profit\").cast(\"float\")) \\\n",
        "       .withColumn(\"Order Date\", to_date(col(\"Order Date\"), \"M/d/yyyy\")) \\\n",
        "       .withColumn(\"Ship Date\", to_date(col(\"Ship Date\"), \"M/d/yyyy\"))"
      ],
      "metadata": {
        "id": "BsBPcSEsW9rb"
      },
      "execution_count": 25,
      "outputs": []
    },
    {
      "cell_type": "code",
      "source": [
        "# Displaying the cleaned DataFrame\n",
        "df.show(5)"
      ],
      "metadata": {
        "id": "3AELc261XWss",
        "outputId": "e642507a-7d15-4eb0-b5c9-747ffc7865ad",
        "colab": {
          "base_uri": "https://localhost:8080/"
        }
      },
      "execution_count": 26,
      "outputs": [
        {
          "output_type": "stream",
          "name": "stdout",
          "text": [
            "+------+--------------+----------+----------+--------------+-----------+---------------+---------+-------------+---------------+----------+-----------+------+---------------+---------------+------------+--------------------+--------+--------+--------+--------+\n",
            "|Row ID|      Order ID|Order Date| Ship Date|     Ship Mode|Customer ID|  Customer Name|  Segment|      Country|           City|     State|Postal Code|Region|     Product ID|       Category|Sub-Category|        Product Name|   Sales|Quantity|Discount|  Profit|\n",
            "+------+--------------+----------+----------+--------------+-----------+---------------+---------+-------------+---------------+----------+-----------+------+---------------+---------------+------------+--------------------+--------+--------+--------+--------+\n",
            "|     1|CA-2016-152156|2016-11-08|2016-11-11|  Second Class|   CG-12520|    Claire Gute| Consumer|United States|      Henderson|  Kentucky|      42420| South|FUR-BO-10001798|      Furniture|   Bookcases|Bush Somerset Col...|  261.96|       2|     0.0| 41.9136|\n",
            "|     2|CA-2016-152156|2016-11-08|2016-11-11|  Second Class|   CG-12520|    Claire Gute| Consumer|United States|      Henderson|  Kentucky|      42420| South|FUR-CH-10000454|      Furniture|      Chairs|Hon Deluxe Fabric...|  731.94|       3|     0.0| 219.582|\n",
            "|     3|CA-2016-138688|2016-06-12|2016-06-16|  Second Class|   DV-13045|Darrin Van Huff|Corporate|United States|    Los Angeles|California|      90036|  West|OFF-LA-10000240|Office Supplies|      Labels|Self-Adhesive Add...|   14.62|       2|     0.0|  6.8714|\n",
            "|     4|US-2015-108966|2015-10-11|2015-10-18|Standard Class|   SO-20335| Sean O'Donnell| Consumer|United States|Fort Lauderdale|   Florida|      33311| South|FUR-TA-10000577|      Furniture|      Tables|Bretford CR4500 S...|957.5775|       5|    0.45|-383.031|\n",
            "|     5|US-2015-108966|2015-10-11|2015-10-18|Standard Class|   SO-20335| Sean O'Donnell| Consumer|United States|Fort Lauderdale|   Florida|      33311| South|OFF-ST-10000760|Office Supplies|     Storage|Eldon Fold 'N Rol...|  22.368|       2|     0.2|  2.5164|\n",
            "+------+--------------+----------+----------+--------------+-----------+---------------+---------+-------------+---------------+----------+-----------+------+---------------+---------------+------------+--------------------+--------+--------+--------+--------+\n",
            "only showing top 5 rows\n",
            "\n"
          ]
        }
      ]
    },
    {
      "cell_type": "code",
      "source": [
        "# Optionally, setting legacy time parser policy if needed:\n",
        "#spark.conf.set(\"spark.sql.legacy.timeParserPolicy\", \"LEGACY\")"
      ],
      "metadata": {
        "id": "58OZIjtoXSYl"
      },
      "execution_count": 27,
      "outputs": []
    },
    {
      "cell_type": "code",
      "source": [
        "# Best-Selling Product Sub-Category\n",
        "\n",
        "from pyspark.sql.functions import sum as spark_sum\n",
        "\n",
        "# Group by Sub-Category and sum Quantity\n",
        "best_selling_sub_category = df.groupBy(\"Sub-Category\").agg(spark_sum(\"Quantity\").alias(\"Total_Quantity\")).orderBy(col(\"Total_Quantity\").desc()).first()\n",
        "\n",
        "print(\"Best-Selling Product Sub-Category:\", best_selling_sub_category[\"Sub-Category\"])\n"
      ],
      "metadata": {
        "colab": {
          "base_uri": "https://localhost:8080/"
        },
        "id": "NqxB3nmIORYT",
        "outputId": "df6c3ad4-266f-402a-ddb7-723d0687b04b"
      },
      "execution_count": 28,
      "outputs": [
        {
          "output_type": "stream",
          "name": "stdout",
          "text": [
            "Best-Selling Product Sub-Category: Binders\n"
          ]
        }
      ]
    },
    {
      "cell_type": "code",
      "source": [
        "# Product Category Generating the Highest Revenue\n",
        "\n",
        "# Group by Category and sum Sales\n",
        "highest_revenue_category = df.groupBy(\"Category\").agg(spark_sum(\"Sales\").alias(\"Total_Sales\")).orderBy(col(\"Total_Sales\").desc()).first()\n",
        "\n",
        "print(\"Product Category Generating Highest Revenue:\", highest_revenue_category[\"Category\"])\n"
      ],
      "metadata": {
        "colab": {
          "base_uri": "https://localhost:8080/"
        },
        "id": "btVijvNXPqUn",
        "outputId": "4b496024-cd70-437d-d8ec-68185bcd6e1c"
      },
      "execution_count": 29,
      "outputs": [
        {
          "output_type": "stream",
          "name": "stdout",
          "text": [
            "Product Category Generating Highest Revenue: Technology\n"
          ]
        }
      ]
    },
    {
      "cell_type": "code",
      "source": [
        "# Top 10 Most Valuable Customers\n",
        "\n",
        "# Group by Customer Name and sum Sales\n",
        "top_10_customers = df.groupBy(\"Customer Name\").agg(spark_sum(\"Sales\").alias(\"Total_Sales\")).orderBy(col(\"Total_Sales\").desc()).limit(10)\n",
        "\n",
        "top_10_customers.show()\n"
      ],
      "metadata": {
        "colab": {
          "base_uri": "https://localhost:8080/"
        },
        "id": "ZlMznS5JQbcO",
        "outputId": "fbe612ad-22f1-45c7-a2ed-b78e824dd6c3"
      },
      "execution_count": 30,
      "outputs": [
        {
          "output_type": "stream",
          "name": "stdout",
          "text": [
            "+------------------+------------------+\n",
            "|     Customer Name|       Total_Sales|\n",
            "+------------------+------------------+\n",
            "|       Sean Miller|  25043.0504860878|\n",
            "|      Tamara Chand|19052.217195034027|\n",
            "|      Raymond Buch|15117.338958740234|\n",
            "|      Tom Ashbrook|14595.619864463806|\n",
            "|     Adrian Barton| 14473.57124376297|\n",
            "|      Ken Lonsdale|14175.228905081749|\n",
            "|      Sanjit Chand|14142.334137916565|\n",
            "|      Hunter Lopez|12873.297662734985|\n",
            "|      Sanjit Engle|12209.438140392303|\n",
            "|Christopher Conant| 12129.07153737545|\n",
            "+------------------+------------------+\n",
            "\n"
          ]
        }
      ]
    },
    {
      "cell_type": "code",
      "source": [
        "# State Responsible for the Highest Number of Orders\n",
        "\n",
        "# Count orders by State\n",
        "state_with_most_orders = df.groupBy(\"State\").count().orderBy(col(\"count\").desc()).first()\n",
        "\n",
        "print(\"State Responsible for the Highest Number of Orders:\", state_with_most_orders[\"State\"])\n"
      ],
      "metadata": {
        "colab": {
          "base_uri": "https://localhost:8080/"
        },
        "id": "3SSCbjL_Sdxf",
        "outputId": "6bc92b88-2298-40a6-d636-11b85937373d"
      },
      "execution_count": 31,
      "outputs": [
        {
          "output_type": "stream",
          "name": "stdout",
          "text": [
            "State Responsible for the Highest Number of Orders: California\n"
          ]
        }
      ]
    },
    {
      "cell_type": "code",
      "source": [
        "# Year with Highest Revenue Generation\n",
        "\n",
        "# Extract the year from Order Date\n",
        "df = df.withColumn(\"Order Year\", year(col(\"Order Date\")))\n",
        "\n",
        "# Group by Order Year and sum Sales\n",
        "highest_revenue_year = df.groupBy(\"Order Year\").agg(spark_sum(\"Sales\").alias(\"Total_Sales\")).orderBy(col(\"Total_Sales\").desc()).first()\n",
        "\n",
        "print(\"Year with Highest Revenue Generation:\", highest_revenue_year[\"Order Year\"])\n"
      ],
      "metadata": {
        "colab": {
          "base_uri": "https://localhost:8080/"
        },
        "id": "usOBZJM3VSMY",
        "outputId": "44474173-3655-408b-f0ae-be17e8ba473e"
      },
      "execution_count": 32,
      "outputs": [
        {
          "output_type": "stream",
          "name": "stdout",
          "text": [
            "Year with Highest Revenue Generation: 2017\n"
          ]
        }
      ]
    }
  ]
}