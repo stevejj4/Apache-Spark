{
  "nbformat": 4,
  "nbformat_minor": 0,
  "metadata": {
    "colab": {
      "provenance": [],
      "authorship_tag": "ABX9TyPadvofwl5gZw4/b4mwpG04",
      "include_colab_link": true
    },
    "kernelspec": {
      "name": "python3",
      "display_name": "Python 3"
    },
    "language_info": {
      "name": "python"
    }
  },
  "cells": [
    {
      "cell_type": "markdown",
      "metadata": {
        "id": "view-in-github",
        "colab_type": "text"
      },
      "source": [
        "<a href=\"https://colab.research.google.com/github/stevejj4/Apache-Spark/blob/main/Classification.ipynb\" target=\"_parent\"><img src=\"https://colab.research.google.com/assets/colab-badge.svg\" alt=\"Open In Colab\"/></a>"
      ]
    },
    {
      "cell_type": "code",
      "source": [
        "!pip install findspark\n",
        "!pip install pyspark"
      ],
      "metadata": {
        "colab": {
          "base_uri": "https://localhost:8080/"
        },
        "id": "47nvmvQ-S2pB",
        "outputId": "e733e57d-0e60-4cd4-c177-203c8409c6a4"
      },
      "execution_count": 18,
      "outputs": [
        {
          "output_type": "stream",
          "name": "stdout",
          "text": [
            "Requirement already satisfied: findspark in /usr/local/lib/python3.10/dist-packages (2.0.1)\n",
            "Requirement already satisfied: pyspark in /usr/local/lib/python3.10/dist-packages (3.5.2)\n",
            "Requirement already satisfied: py4j==0.10.9.7 in /usr/local/lib/python3.10/dist-packages (from pyspark) (0.10.9.7)\n"
          ]
        }
      ]
    },
    {
      "cell_type": "code",
      "execution_count": 19,
      "metadata": {
        "id": "SisRnSdDSB41"
      },
      "outputs": [],
      "source": [
        "# importing the necessary libraies\n",
        "import findspark\n",
        "findspark.init()\n",
        "from pyspark.sql import SparkSession\n",
        "from pyspark.ml.feature import StringIndexer\n",
        "from pyspark.ml.feature import VectorAssembler\n",
        "from pyspark.ml.evaluation import MulticlassClassificationEvaluator"
      ]
    },
    {
      "cell_type": "code",
      "source": [
        "# Creating spark session\n",
        "spark = SparkSession.builder.appName('Classification using SparkML').getOrCreate()\n"
      ],
      "metadata": {
        "id": "7aVs5ANbTOwK"
      },
      "execution_count": 20,
      "outputs": []
    },
    {
      "cell_type": "code",
      "source": [
        "# Downloading the dataset\n",
        "!wget https://cf-courses-data.s3.us.cloud-object-storage.appdomain.cloud/IBM-BD0231EN-SkillsNetwork/datasets/drybeans.csv\n"
      ],
      "metadata": {
        "colab": {
          "base_uri": "https://localhost:8080/"
        },
        "id": "t8QKQTfKUIt5",
        "outputId": "2ff98226-86f0-4f19-93d7-be25f71cd7a6"
      },
      "execution_count": 21,
      "outputs": [
        {
          "output_type": "stream",
          "name": "stdout",
          "text": [
            "--2024-08-17 08:05:48--  https://cf-courses-data.s3.us.cloud-object-storage.appdomain.cloud/IBM-BD0231EN-SkillsNetwork/datasets/drybeans.csv\n",
            "Resolving cf-courses-data.s3.us.cloud-object-storage.appdomain.cloud (cf-courses-data.s3.us.cloud-object-storage.appdomain.cloud)... 169.63.118.104\n",
            "Connecting to cf-courses-data.s3.us.cloud-object-storage.appdomain.cloud (cf-courses-data.s3.us.cloud-object-storage.appdomain.cloud)|169.63.118.104|:443... connected.\n",
            "HTTP request sent, awaiting response... 200 OK\n",
            "Length: 2484759 (2.4M) [text/csv]\n",
            "Saving to: ‘drybeans.csv.1’\n",
            "\n",
            "drybeans.csv.1      100%[===================>]   2.37M  8.38MB/s    in 0.3s    \n",
            "\n",
            "2024-08-17 08:05:49 (8.38 MB/s) - ‘drybeans.csv.1’ saved [2484759/2484759]\n",
            "\n"
          ]
        }
      ]
    },
    {
      "cell_type": "code",
      "source": [
        "# Loading the dataset\n",
        "df = spark.read.csv('drybeans.csv', header=True, inferSchema=True)"
      ],
      "metadata": {
        "id": "NwXBcx9QUN8L"
      },
      "execution_count": 22,
      "outputs": []
    },
    {
      "cell_type": "code",
      "source": [
        "# prining the size of the dataset\n",
        "print((df.count(), len(df.columns)))\n",
        "df.printSchema()"
      ],
      "metadata": {
        "colab": {
          "base_uri": "https://localhost:8080/"
        },
        "id": "GZJC4lhYWHLA",
        "outputId": "27dd3876-c901-4290-8c23-7cada188ad82"
      },
      "execution_count": 23,
      "outputs": [
        {
          "output_type": "stream",
          "name": "stdout",
          "text": [
            "(13611, 17)\n",
            "root\n",
            " |-- Area: integer (nullable = true)\n",
            " |-- Perimeter: double (nullable = true)\n",
            " |-- MajorAxisLength: double (nullable = true)\n",
            " |-- MinorAxisLength: double (nullable = true)\n",
            " |-- AspectRation: double (nullable = true)\n",
            " |-- Eccentricity: double (nullable = true)\n",
            " |-- ConvexArea: integer (nullable = true)\n",
            " |-- EquivDiameter: double (nullable = true)\n",
            " |-- Extent: double (nullable = true)\n",
            " |-- Solidity: double (nullable = true)\n",
            " |-- roundness: double (nullable = true)\n",
            " |-- Compactness: double (nullable = true)\n",
            " |-- ShapeFactor1: double (nullable = true)\n",
            " |-- ShapeFactor2: double (nullable = true)\n",
            " |-- ShapeFactor3: double (nullable = true)\n",
            " |-- ShapeFactor4: double (nullable = true)\n",
            " |-- Class: string (nullable = true)\n",
            "\n"
          ]
        }
      ]
    },
    {
      "cell_type": "code",
      "source": [
        "# printing the first five rows of Area, Perimeter, Solidity, roundness,compactness,class\n",
        "df.select('Area', 'Perimeter', 'Solidity', 'roundness', 'compactness', 'class').show(5)"
      ],
      "metadata": {
        "colab": {
          "base_uri": "https://localhost:8080/"
        },
        "id": "ZtlNZYBhWf__",
        "outputId": "bc3f5213-8cf8-4f8e-9e15-97323754ed0f"
      },
      "execution_count": 24,
      "outputs": [
        {
          "output_type": "stream",
          "name": "stdout",
          "text": [
            "+-----+---------+-----------+-----------+-----------+-----+\n",
            "| Area|Perimeter|   Solidity|  roundness|compactness|class|\n",
            "+-----+---------+-----------+-----------+-----------+-----+\n",
            "|28395|  610.291|0.988855999|0.958027126|0.913357755|SEKER|\n",
            "|28734|  638.018|0.984985603|0.887033637|0.953860842|SEKER|\n",
            "|29380|   624.11|0.989558774|0.947849473|0.908774239|SEKER|\n",
            "|30008|  645.884|0.976695743|0.903936374|0.928328835|SEKER|\n",
            "|30140|  620.134| 0.99089325|0.984877069|0.970515523|SEKER|\n",
            "+-----+---------+-----------+-----------+-----------+-----+\n",
            "only showing top 5 rows\n",
            "\n"
          ]
        }
      ]
    },
    {
      "cell_type": "code",
      "source": [
        "# Value counts for the columns class from the dataset\n",
        "df.groupBy('Class').count().show()"
      ],
      "metadata": {
        "colab": {
          "base_uri": "https://localhost:8080/"
        },
        "id": "nbQOz6QhW04v",
        "outputId": "ec5f0358-b73b-446e-88c3-b01771062f88"
      },
      "execution_count": 28,
      "outputs": [
        {
          "output_type": "stream",
          "name": "stdout",
          "text": [
            "+--------+-----+\n",
            "|   Class|count|\n",
            "+--------+-----+\n",
            "|    CALI| 1630|\n",
            "|   SEKER| 2027|\n",
            "|    SIRA| 2636|\n",
            "|   HOROZ| 1928|\n",
            "|  BOMBAY|  522|\n",
            "|BARBUNYA| 1322|\n",
            "|DERMASON| 3546|\n",
            "+--------+-----+\n",
            "\n"
          ]
        }
      ]
    },
    {
      "cell_type": "code",
      "source": [
        "# Converting class column from string to numerical value\n",
        "indexer = StringIndexer(inputCol='Class', outputCol='label')\n",
        "df = indexer.fit(df).transform(df)\n",
        "df.select('class', 'label').show(5)"
      ],
      "metadata": {
        "colab": {
          "base_uri": "https://localhost:8080/"
        },
        "id": "_pv_qX5jXf5Y",
        "outputId": "d066893d-503b-4180-e1d5-f19fa1272859"
      },
      "execution_count": 27,
      "outputs": [
        {
          "output_type": "stream",
          "name": "stdout",
          "text": [
            "+-----+-----+\n",
            "|class|label|\n",
            "+-----+-----+\n",
            "|SEKER|  2.0|\n",
            "|SEKER|  2.0|\n",
            "|SEKER|  2.0|\n",
            "|SEKER|  2.0|\n",
            "|SEKER|  2.0|\n",
            "+-----+-----+\n",
            "only showing top 5 rows\n",
            "\n"
          ]
        }
      ]
    },
    {
      "cell_type": "code",
      "source": [
        "# Printing the values of column label\n",
        "df.groupBy('label').count().orderBy('count', ascending=False).show()"
      ],
      "metadata": {
        "colab": {
          "base_uri": "https://localhost:8080/"
        },
        "id": "2tBV3dArYLfp",
        "outputId": "bdbd6630-36f3-4517-bee9-84a9626dfd66"
      },
      "execution_count": 30,
      "outputs": [
        {
          "output_type": "stream",
          "name": "stdout",
          "text": [
            "+-----+-----+\n",
            "|label|count|\n",
            "+-----+-----+\n",
            "|  0.0| 3546|\n",
            "|  1.0| 2636|\n",
            "|  2.0| 2027|\n",
            "|  3.0| 1928|\n",
            "|  4.0| 1630|\n",
            "|  5.0| 1322|\n",
            "|  6.0|  522|\n",
            "+-----+-----+\n",
            "\n"
          ]
        }
      ]
    },
    {
      "cell_type": "code",
      "source": [
        "# labe; column and the input columns\n",
        "# preparing feature vector\n",
        "vector_assembler = VectorAssembler(inputCols=['Area', 'Perimeter', 'Solidity', 'roundness', 'Compactness'], outputCol='features')\n",
        "df = vector_assembler.transform(df)\n",
        "df.show(5)"
      ],
      "metadata": {
        "colab": {
          "base_uri": "https://localhost:8080/"
        },
        "id": "3uIoDn6LYg8N",
        "outputId": "77d808b1-ac23-4fc2-fa6f-efe270c280f6"
      },
      "execution_count": 32,
      "outputs": [
        {
          "output_type": "stream",
          "name": "stdout",
          "text": [
            "+-----+---------+---------------+---------------+------------+------------+----------+-------------+-----------+-----------+-----------+-----------+------------+------------+------------+------------+-----+-----+--------------------+\n",
            "| Area|Perimeter|MajorAxisLength|MinorAxisLength|AspectRation|Eccentricity|ConvexArea|EquivDiameter|     Extent|   Solidity|  roundness|Compactness|ShapeFactor1|ShapeFactor2|ShapeFactor3|ShapeFactor4|Class|label|            features|\n",
            "+-----+---------+---------------+---------------+------------+------------+----------+-------------+-----------+-----------+-----------+-----------+------------+------------+------------+------------+-----+-----+--------------------+\n",
            "|28395|  610.291|    208.1781167|     173.888747| 1.197191424| 0.549812187|     28715|  190.1410973|0.763922518|0.988855999|0.958027126|0.913357755| 0.007331506| 0.003147289| 0.834222388| 0.998723889|SEKER|  2.0|[28395.0,610.291,...|\n",
            "|28734|  638.018|    200.5247957|    182.7344194| 1.097356461| 0.411785251|     29172|  191.2727505|0.783968133|0.984985603|0.887033637|0.953860842| 0.006978659| 0.003563624| 0.909850506| 0.998430331|SEKER|  2.0|[28734.0,638.018,...|\n",
            "|29380|   624.11|    212.8261299|    175.9311426| 1.209712656| 0.562727317|     29690|  193.4109041|0.778113248|0.989558774|0.947849473|0.908774239| 0.007243912| 0.003047733| 0.825870617| 0.999066137|SEKER|  2.0|[29380.0,624.11,0...|\n",
            "|30008|  645.884|     210.557999|    182.5165157| 1.153638059| 0.498615976|     30724|  195.4670618|0.782681273|0.976695743|0.903936374|0.928328835| 0.007016729| 0.003214562| 0.861794425| 0.994198849|SEKER|  2.0|[30008.0,645.884,...|\n",
            "|30140|  620.134|    201.8478822|    190.2792788|  1.06079802| 0.333679658|     30417|   195.896503|0.773098035| 0.99089325|0.984877069|0.970515523|  0.00669701| 0.003664972| 0.941900381| 0.999166059|SEKER|  2.0|[30140.0,620.134,...|\n",
            "+-----+---------+---------------+---------------+------------+------------+----------+-------------+-----------+-----------+-----------+-----------+------------+------------+------------+------------+-----+-----+--------------------+\n",
            "only showing top 5 rows\n",
            "\n"
          ]
        }
      ]
    },
    {
      "cell_type": "code",
      "source": [
        "# display for only the assembled features and lalel column\n",
        "df.select('features', 'label').show(5, truncate=False)\n"
      ],
      "metadata": {
        "colab": {
          "base_uri": "https://localhost:8080/"
        },
        "id": "fQoHNWptZC3s",
        "outputId": "ee1ff9a8-dfd7-4426-cf80-422dba4ffe4a"
      },
      "execution_count": 33,
      "outputs": [
        {
          "output_type": "stream",
          "name": "stdout",
          "text": [
            "+-----------------------------------------------------+-----+\n",
            "|features                                             |label|\n",
            "+-----------------------------------------------------+-----+\n",
            "|[28395.0,610.291,0.988855999,0.958027126,0.913357755]|2.0  |\n",
            "|[28734.0,638.018,0.984985603,0.887033637,0.953860842]|2.0  |\n",
            "|[29380.0,624.11,0.989558774,0.947849473,0.908774239] |2.0  |\n",
            "|[30008.0,645.884,0.976695743,0.903936374,0.928328835]|2.0  |\n",
            "|[30140.0,620.134,0.99089325,0.984877069,0.970515523] |2.0  |\n",
            "+-----------------------------------------------------+-----+\n",
            "only showing top 5 rows\n",
            "\n"
          ]
        }
      ]
    },
    {
      "cell_type": "code",
      "source": [
        "# train test split\n",
        "train_df, test_df = df.randomSplit([0.7, 0.30])"
      ],
      "metadata": {
        "id": "nIOy2mzcZQ6C"
      },
      "execution_count": 34,
      "outputs": []
    },
    {
      "cell_type": "code",
      "source": [
        "# building the model logistic regression\n",
        "from pyspark.ml.classification import LogisticRegression\n",
        "lr = LogisticRegression(featuresCol='features', labelCol='label')\n",
        "lr_model = lr.fit(train_df)\n"
      ],
      "metadata": {
        "id": "hzc-UPYZZX98"
      },
      "execution_count": 35,
      "outputs": []
    },
    {
      "cell_type": "code",
      "source": [
        "# make predictions on testing data\n",
        "lr_predictions = lr_model.transform(test_df)"
      ],
      "metadata": {
        "id": "BrFLcXh0ZxTc"
      },
      "execution_count": 36,
      "outputs": []
    },
    {
      "cell_type": "code",
      "source": [
        "# model evaluation\n",
        "evaluator = MulticlassClassificationEvaluator(labelCol='label', predictionCol='prediction', metricName='accuracy')\n",
        "lr_accuracy = evaluator.evaluate(lr_predictions)\n",
        "print('Accuracy:', lr_accuracy)"
      ],
      "metadata": {
        "colab": {
          "base_uri": "https://localhost:8080/"
        },
        "id": "sL_pznXyaDiM",
        "outputId": "55b3fb30-393b-480d-8259-e571cd5cd665"
      },
      "execution_count": 37,
      "outputs": [
        {
          "output_type": "stream",
          "name": "stdout",
          "text": [
            "Accuracy: 0.9188538405971587\n"
          ]
        }
      ]
    },
    {
      "cell_type": "code",
      "source": [
        "# The confusion matrix\n",
        "lr_predictions.groupBy('label', 'prediction').count().show()"
      ],
      "metadata": {
        "colab": {
          "base_uri": "https://localhost:8080/"
        },
        "id": "L9OoVxTVao98",
        "outputId": "ecb8f55f-17fa-4077-aa5e-b13cbfbf9404"
      },
      "execution_count": 38,
      "outputs": [
        {
          "output_type": "stream",
          "name": "stdout",
          "text": [
            "+-----+----------+-----+\n",
            "|label|prediction|count|\n",
            "+-----+----------+-----+\n",
            "|  2.0|       0.0|    8|\n",
            "|  3.0|       5.0|    3|\n",
            "|  0.0|       5.0|    1|\n",
            "|  5.0|       1.0|   13|\n",
            "|  5.0|       2.0|    4|\n",
            "|  5.0|       4.0|   24|\n",
            "|  1.0|       1.0|  737|\n",
            "|  4.0|       5.0|   15|\n",
            "|  0.0|       1.0|   75|\n",
            "|  2.0|       2.0|  611|\n",
            "|  1.0|       0.0|   73|\n",
            "|  3.0|       1.0|    7|\n",
            "|  5.0|       3.0|    3|\n",
            "|  2.0|       3.0|    1|\n",
            "|  6.0|       6.0|  147|\n",
            "|  1.0|       4.0|    3|\n",
            "|  4.0|       4.0|  433|\n",
            "|  1.0|       5.0|    2|\n",
            "|  3.0|       4.0|    9|\n",
            "|  2.0|       1.0|   21|\n",
            "+-----+----------+-----+\n",
            "only showing top 20 rows\n",
            "\n"
          ]
        }
      ]
    },
    {
      "cell_type": "code",
      "source": [
        "# The precision\n",
        "evaluator = MulticlassClassificationEvaluator(labelCol='label', predictionCol='prediction', metricName='weightedPrecision')\n",
        "lr_precision = evaluator.evaluate(lr_predictions)\n",
        "print('Precision:', lr_precision)"
      ],
      "metadata": {
        "colab": {
          "base_uri": "https://localhost:8080/"
        },
        "id": "8i8rOxO_a18h",
        "outputId": "5f719de8-776c-4dc5-fe66-4ea0087797ed"
      },
      "execution_count": 39,
      "outputs": [
        {
          "output_type": "stream",
          "name": "stdout",
          "text": [
            "Precision: 0.919017466333299\n"
          ]
        }
      ]
    },
    {
      "cell_type": "code",
      "source": [
        "# the recall\n",
        "evaluator = MulticlassClassificationEvaluator(labelCol='label', predictionCol='prediction', metricName='weightedRecall')\n",
        "lr_recall = evaluator.evaluate(lr_predictions)\n",
        "print('Recall:', lr_recall)"
      ],
      "metadata": {
        "colab": {
          "base_uri": "https://localhost:8080/"
        },
        "id": "DLLKkFUBbB3r",
        "outputId": "c11a5237-2ae2-4c47-90a9-56e80789c9fa"
      },
      "execution_count": 40,
      "outputs": [
        {
          "output_type": "stream",
          "name": "stdout",
          "text": [
            "Recall: 0.9188538405971587\n"
          ]
        }
      ]
    },
    {
      "cell_type": "code",
      "source": [
        "# the balance of precision and recall\n",
        "lr_f1 = 2 * (lr_precision * lr_recall) / (lr_precision + lr_recall)\n",
        "print('F1 Score:', lr_f1)"
      ],
      "metadata": {
        "colab": {
          "base_uri": "https://localhost:8080/"
        },
        "id": "OM1AYsUZbFVQ",
        "outputId": "0772d61d-e164-42ed-fa51-9d06f9e8112b"
      },
      "execution_count": 41,
      "outputs": [
        {
          "output_type": "stream",
          "name": "stdout",
          "text": [
            "F1 Score: 0.9189356461814268\n"
          ]
        }
      ]
    },
    {
      "cell_type": "markdown",
      "source": [
        "# This means the model is doing a good job at identifying different classes of dry beans based on these features."
      ],
      "metadata": {
        "id": "3zkuCLvObpXr"
      }
    }
  ]
}