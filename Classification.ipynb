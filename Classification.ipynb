{
  "nbformat": 4,
  "nbformat_minor": 0,
  "metadata": {
    "colab": {
      "provenance": [],
      "authorship_tag": "ABX9TyOIi6qYkzE58U9EJZ1jEnWi",
      "include_colab_link": true
    },
    "kernelspec": {
      "name": "python3",
      "display_name": "Python 3"
    },
    "language_info": {
      "name": "python"
    }
  },
  "cells": [
    {
      "cell_type": "markdown",
      "metadata": {
        "id": "view-in-github",
        "colab_type": "text"
      },
      "source": [
        "<a href=\"https://colab.research.google.com/github/stevejj4/Apache-Spark/blob/main/Classification.ipynb\" target=\"_parent\"><img src=\"https://colab.research.google.com/assets/colab-badge.svg\" alt=\"Open In Colab\"/></a>"
      ]
    },
    {
      "cell_type": "code",
      "source": [
        "!pip install findspark\n",
        "!pip install pyspark"
      ],
      "metadata": {
        "colab": {
          "base_uri": "https://localhost:8080/"
        },
        "id": "47nvmvQ-S2pB",
        "outputId": "9a51eb23-e46a-4e35-c73c-f0d506375dda"
      },
      "execution_count": 7,
      "outputs": [
        {
          "output_type": "stream",
          "name": "stdout",
          "text": [
            "Requirement already satisfied: findspark in /usr/local/lib/python3.10/dist-packages (2.0.1)\n",
            "Requirement already satisfied: pyspark in /usr/local/lib/python3.10/dist-packages (3.5.2)\n",
            "Requirement already satisfied: py4j==0.10.9.7 in /usr/local/lib/python3.10/dist-packages (from pyspark) (0.10.9.7)\n"
          ]
        }
      ]
    },
    {
      "cell_type": "code",
      "execution_count": 8,
      "metadata": {
        "id": "SisRnSdDSB41"
      },
      "outputs": [],
      "source": [
        "# importing the necessary libraies\n",
        "import findspark\n",
        "findspark.init()\n",
        "from pyspark.sql import SparkSession\n",
        "from pyspark.ml.feature import StringIndexer\n",
        "from pyspark.ml.feature import VectorAssembler\n",
        "from pyspark.ml.evaluation import MulticlassClassificationEvaluator"
      ]
    },
    {
      "cell_type": "code",
      "source": [
        "# Creating spark session\n",
        "spark = SparkSession.builder.appName('Classification using SparkML').getOrCreate()\n"
      ],
      "metadata": {
        "id": "7aVs5ANbTOwK"
      },
      "execution_count": 9,
      "outputs": []
    },
    {
      "cell_type": "code",
      "source": [
        "# Downloading the dataset\n",
        "!wget https://cf-courses-data.s3.us.cloud-object-storage.appdomain.cloud/IBM-BD0231EN-SkillsNetwork/datasets/drybeans.csv\n"
      ],
      "metadata": {
        "colab": {
          "base_uri": "https://localhost:8080/"
        },
        "id": "t8QKQTfKUIt5",
        "outputId": "2ccd944a-8698-41a6-dbb8-7547bb3bec92"
      },
      "execution_count": 10,
      "outputs": [
        {
          "output_type": "stream",
          "name": "stdout",
          "text": [
            "--2024-08-17 07:50:03--  https://cf-courses-data.s3.us.cloud-object-storage.appdomain.cloud/IBM-BD0231EN-SkillsNetwork/datasets/drybeans.csv\n",
            "Resolving cf-courses-data.s3.us.cloud-object-storage.appdomain.cloud (cf-courses-data.s3.us.cloud-object-storage.appdomain.cloud)... 198.23.119.245\n",
            "Connecting to cf-courses-data.s3.us.cloud-object-storage.appdomain.cloud (cf-courses-data.s3.us.cloud-object-storage.appdomain.cloud)|198.23.119.245|:443... connected.\n",
            "HTTP request sent, awaiting response... 200 OK\n",
            "Length: 2484759 (2.4M) [text/csv]\n",
            "Saving to: ‘drybeans.csv’\n",
            "\n",
            "drybeans.csv        100%[===================>]   2.37M  --.-KB/s    in 0.1s    \n",
            "\n",
            "2024-08-17 07:50:03 (18.0 MB/s) - ‘drybeans.csv’ saved [2484759/2484759]\n",
            "\n"
          ]
        }
      ]
    },
    {
      "cell_type": "code",
      "source": [
        "# Loading the dataset\n",
        "df = spark.read.csv('drybeans.csv', header=True, inferSchema=True)"
      ],
      "metadata": {
        "id": "NwXBcx9QUN8L"
      },
      "execution_count": 11,
      "outputs": []
    },
    {
      "cell_type": "code",
      "source": [
        "# prining the size of the dataset\n",
        "print((df.count(), len(df.columns)))\n",
        "df.printSchema()"
      ],
      "metadata": {
        "colab": {
          "base_uri": "https://localhost:8080/"
        },
        "id": "GZJC4lhYWHLA",
        "outputId": "0b95b5e9-85b6-45d3-a954-f7b8440dc1bf"
      },
      "execution_count": 13,
      "outputs": [
        {
          "output_type": "stream",
          "name": "stdout",
          "text": [
            "(13611, 17)\n",
            "root\n",
            " |-- Area: integer (nullable = true)\n",
            " |-- Perimeter: double (nullable = true)\n",
            " |-- MajorAxisLength: double (nullable = true)\n",
            " |-- MinorAxisLength: double (nullable = true)\n",
            " |-- AspectRation: double (nullable = true)\n",
            " |-- Eccentricity: double (nullable = true)\n",
            " |-- ConvexArea: integer (nullable = true)\n",
            " |-- EquivDiameter: double (nullable = true)\n",
            " |-- Extent: double (nullable = true)\n",
            " |-- Solidity: double (nullable = true)\n",
            " |-- roundness: double (nullable = true)\n",
            " |-- Compactness: double (nullable = true)\n",
            " |-- ShapeFactor1: double (nullable = true)\n",
            " |-- ShapeFactor2: double (nullable = true)\n",
            " |-- ShapeFactor3: double (nullable = true)\n",
            " |-- ShapeFactor4: double (nullable = true)\n",
            " |-- Class: string (nullable = true)\n",
            "\n"
          ]
        }
      ]
    },
    {
      "cell_type": "code",
      "source": [
        "# printing the first five rows of Area, Perimeter, Solidity, roundness,compactness,class\n",
        "df.select('Area', 'Perimeter', 'Solidity', 'roundness', 'compactness', 'class').show(5)"
      ],
      "metadata": {
        "colab": {
          "base_uri": "https://localhost:8080/"
        },
        "id": "ZtlNZYBhWf__",
        "outputId": "e7b4f694-179e-4daf-cf17-364cfb6f8f8c"
      },
      "execution_count": 14,
      "outputs": [
        {
          "output_type": "stream",
          "name": "stdout",
          "text": [
            "+-----+---------+-----------+-----------+-----------+-----+\n",
            "| Area|Perimeter|   Solidity|  roundness|compactness|class|\n",
            "+-----+---------+-----------+-----------+-----------+-----+\n",
            "|28395|  610.291|0.988855999|0.958027126|0.913357755|SEKER|\n",
            "|28734|  638.018|0.984985603|0.887033637|0.953860842|SEKER|\n",
            "|29380|   624.11|0.989558774|0.947849473|0.908774239|SEKER|\n",
            "|30008|  645.884|0.976695743|0.903936374|0.928328835|SEKER|\n",
            "|30140|  620.134| 0.99089325|0.984877069|0.970515523|SEKER|\n",
            "+-----+---------+-----------+-----------+-----------+-----+\n",
            "only showing top 5 rows\n",
            "\n"
          ]
        }
      ]
    },
    {
      "cell_type": "code",
      "source": [
        "# Value counts for the columns class from the dataset\n",
        "df.groupBy('class').count().show()"
      ],
      "metadata": {
        "colab": {
          "base_uri": "https://localhost:8080/"
        },
        "id": "nbQOz6QhW04v",
        "outputId": "abae4f93-3a41-4de2-9124-9d35bc63a129"
      },
      "execution_count": 16,
      "outputs": [
        {
          "output_type": "stream",
          "name": "stdout",
          "text": [
            "+--------+-----+\n",
            "|   class|count|\n",
            "+--------+-----+\n",
            "|    CALI| 1630|\n",
            "|   SEKER| 2027|\n",
            "|    SIRA| 2636|\n",
            "|   HOROZ| 1928|\n",
            "|  BOMBAY|  522|\n",
            "|BARBUNYA| 1322|\n",
            "|DERMASON| 3546|\n",
            "+--------+-----+\n",
            "\n"
          ]
        }
      ]
    }
  ]
}