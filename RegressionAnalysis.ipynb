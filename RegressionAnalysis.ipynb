{
  "nbformat": 4,
  "nbformat_minor": 0,
  "metadata": {
    "colab": {
      "provenance": [],
      "authorship_tag": "ABX9TyP7vxiFi9QRfd25VjR32C9T",
      "include_colab_link": true
    },
    "kernelspec": {
      "name": "python3",
      "display_name": "Python 3"
    },
    "language_info": {
      "name": "python"
    }
  },
  "cells": [
    {
      "cell_type": "markdown",
      "metadata": {
        "id": "view-in-github",
        "colab_type": "text"
      },
      "source": [
        "<a href=\"https://colab.research.google.com/github/stevejj4/Apache-Spark/blob/main/RegressionAnalysis.ipynb\" target=\"_parent\"><img src=\"https://colab.research.google.com/assets/colab-badge.svg\" alt=\"Open In Colab\"/></a>"
      ]
    },
    {
      "cell_type": "code",
      "source": [
        "# install pyspark\n",
        "!pip install pyspark\n",
        "!pip install findspark"
      ],
      "metadata": {
        "colab": {
          "base_uri": "https://localhost:8080/"
        },
        "id": "Qrh7tzjhk_YZ",
        "outputId": "aca18ede-9e5a-48ce-c39a-cc56a86bdf28"
      },
      "execution_count": 4,
      "outputs": [
        {
          "output_type": "stream",
          "name": "stdout",
          "text": [
            "Requirement already satisfied: pyspark in /usr/local/lib/python3.10/dist-packages (3.5.2)\n",
            "Requirement already satisfied: py4j==0.10.9.7 in /usr/local/lib/python3.10/dist-packages (from pyspark) (0.10.9.7)\n",
            "Collecting findspark\n",
            "  Downloading findspark-2.0.1-py2.py3-none-any.whl.metadata (352 bytes)\n",
            "Downloading findspark-2.0.1-py2.py3-none-any.whl (4.4 kB)\n",
            "Installing collected packages: findspark\n",
            "Successfully installed findspark-2.0.1\n"
          ]
        }
      ]
    },
    {
      "cell_type": "code",
      "source": [
        "# importing spark libraries\n",
        "import findspark # for simple usage of pache spark\n",
        "findspark.init()\n",
        "from pyspark.sql import SparkSession\n",
        "\n",
        "# import functions/clases for sparkml\n",
        "from pyspark.ml.feature import VectorAssembler\n",
        "from pyspark.ml.regression import LinearRegression\n",
        "from pyspark.ml.evaluation import RegressionEvaluator\n"
      ],
      "metadata": {
        "id": "gZiq0y6RkzKt"
      },
      "execution_count": 5,
      "outputs": []
    },
    {
      "cell_type": "code",
      "source": [
        "# creating spark session\n",
        "spark = SparkSession.builder.appName('mpg').getOrCreate()"
      ],
      "metadata": {
        "id": "IHii3toGmEER"
      },
      "execution_count": 6,
      "outputs": []
    },
    {
      "cell_type": "code",
      "execution_count": 1,
      "metadata": {
        "colab": {
          "base_uri": "https://localhost:8080/"
        },
        "id": "R1ee4rm0ju11",
        "outputId": "7bb7e5f1-9da0-4135-cd88-64ff47cbedd2"
      },
      "outputs": [
        {
          "output_type": "stream",
          "name": "stdout",
          "text": [
            "--2024-08-16 05:00:50--  https://cf-courses-data.s3.us.cloud-object-storage.appdomain.cloud/IBM-BD0231EN-SkillsNetwork/datasets/mpg.csv\n",
            "Resolving cf-courses-data.s3.us.cloud-object-storage.appdomain.cloud (cf-courses-data.s3.us.cloud-object-storage.appdomain.cloud)... 169.63.118.104\n",
            "Connecting to cf-courses-data.s3.us.cloud-object-storage.appdomain.cloud (cf-courses-data.s3.us.cloud-object-storage.appdomain.cloud)|169.63.118.104|:443... connected.\n",
            "HTTP request sent, awaiting response... 200 OK\n",
            "Length: 13891 (14K) [text/csv]\n",
            "Saving to: ‘mpg.csv’\n",
            "\n",
            "mpg.csv             100%[===================>]  13.57K  --.-KB/s    in 0s      \n",
            "\n",
            "2024-08-16 05:00:50 (293 MB/s) - ‘mpg.csv’ saved [13891/13891]\n",
            "\n"
          ]
        }
      ],
      "source": [
        "# downloding the data file\n",
        "!wget https://cf-courses-data.s3.us.cloud-object-storage.appdomain.cloud/IBM-BD0231EN-SkillsNetwork/datasets/mpg.csv\n"
      ]
    },
    {
      "cell_type": "code",
      "source": [
        "# loading the dataset\n",
        "df = spark.read.csv('mpg.csv', header=True, inferSchema=True)"
      ],
      "metadata": {
        "id": "cZD8I639majS"
      },
      "execution_count": 7,
      "outputs": []
    },
    {
      "cell_type": "code",
      "source": [
        "# printing the schema\n",
        "df.printSchema()"
      ],
      "metadata": {
        "colab": {
          "base_uri": "https://localhost:8080/"
        },
        "id": "vhbDanukmyXq",
        "outputId": "ad6bedab-efd4-4d35-8f25-dfa0a1086e3f"
      },
      "execution_count": 8,
      "outputs": [
        {
          "output_type": "stream",
          "name": "stdout",
          "text": [
            "root\n",
            " |-- MPG: double (nullable = true)\n",
            " |-- Cylinders: integer (nullable = true)\n",
            " |-- Engine Disp: double (nullable = true)\n",
            " |-- Horsepower: integer (nullable = true)\n",
            " |-- Weight: integer (nullable = true)\n",
            " |-- Accelerate: double (nullable = true)\n",
            " |-- Year: integer (nullable = true)\n",
            " |-- Origin: string (nullable = true)\n",
            "\n"
          ]
        }
      ]
    },
    {
      "cell_type": "code",
      "source": [
        "# show the top 5 rows\n",
        "df.show(5)"
      ],
      "metadata": {
        "colab": {
          "base_uri": "https://localhost:8080/"
        },
        "id": "Tt0qlyLdm5pg",
        "outputId": "0741449f-5d01-4c49-adad-da50189c663a"
      },
      "execution_count": 9,
      "outputs": [
        {
          "output_type": "stream",
          "name": "stdout",
          "text": [
            "+----+---------+-----------+----------+------+----------+----+--------+\n",
            "| MPG|Cylinders|Engine Disp|Horsepower|Weight|Accelerate|Year|  Origin|\n",
            "+----+---------+-----------+----------+------+----------+----+--------+\n",
            "|15.0|        8|      390.0|       190|  3850|       8.5|  70|American|\n",
            "|21.0|        6|      199.0|        90|  2648|      15.0|  70|American|\n",
            "|18.0|        6|      199.0|        97|  2774|      15.5|  70|American|\n",
            "|16.0|        8|      304.0|       150|  3433|      12.0|  70|American|\n",
            "|14.0|        8|      455.0|       225|  3086|      10.0|  70|American|\n",
            "+----+---------+-----------+----------+------+----------+----+--------+\n",
            "only showing top 5 rows\n",
            "\n"
          ]
        }
      ]
    },
    {
      "cell_type": "code",
      "source": [
        "# To perform more data analysis"
      ],
      "metadata": {
        "id": "FFjAQW_enG9b"
      },
      "execution_count": 10,
      "outputs": []
    },
    {
      "cell_type": "code",
      "source": [
        "# Identify the label column and the input columns\n",
        "# prepare feature vector\n",
        "assembler = VectorAssembler(inputCols=[\"Cylinders\", \"Engine Disp\", \"Horsepower\", \"Weight\", \"Accelerate\", \"Year\",], outputCol=\"features\")\n",
        "df_transformed = assembler.transform(df)\n",
        "df_transformed.show(5)"
      ],
      "metadata": {
        "colab": {
          "base_uri": "https://localhost:8080/"
        },
        "id": "JvRgwxline-u",
        "outputId": "48ed288c-c141-4ffb-f8a6-18f32519638a"
      },
      "execution_count": 14,
      "outputs": [
        {
          "output_type": "stream",
          "name": "stdout",
          "text": [
            "+----+---------+-----------+----------+------+----------+----+--------+--------------------+\n",
            "| MPG|Cylinders|Engine Disp|Horsepower|Weight|Accelerate|Year|  Origin|            features|\n",
            "+----+---------+-----------+----------+------+----------+----+--------+--------------------+\n",
            "|15.0|        8|      390.0|       190|  3850|       8.5|  70|American|[8.0,390.0,190.0,...|\n",
            "|21.0|        6|      199.0|        90|  2648|      15.0|  70|American|[6.0,199.0,90.0,2...|\n",
            "|18.0|        6|      199.0|        97|  2774|      15.5|  70|American|[6.0,199.0,97.0,2...|\n",
            "|16.0|        8|      304.0|       150|  3433|      12.0|  70|American|[8.0,304.0,150.0,...|\n",
            "|14.0|        8|      455.0|       225|  3086|      10.0|  70|American|[8.0,455.0,225.0,...|\n",
            "+----+---------+-----------+----------+------+----------+----+--------+--------------------+\n",
            "only showing top 5 rows\n",
            "\n"
          ]
        }
      ]
    },
    {
      "cell_type": "code",
      "source": [
        "# displaying the assembled \"features\"\n",
        "df_transformed.select('features', 'MPG').show(truncate=False)"
      ],
      "metadata": {
        "colab": {
          "base_uri": "https://localhost:8080/"
        },
        "id": "7uVeaTANpPdU",
        "outputId": "7199c565-4e04-41c4-f8c7-13ee9fb3cc80"
      },
      "execution_count": 16,
      "outputs": [
        {
          "output_type": "stream",
          "name": "stdout",
          "text": [
            "+----------------------------------+----+\n",
            "|features                          |MPG |\n",
            "+----------------------------------+----+\n",
            "|[8.0,390.0,190.0,3850.0,8.5,70.0] |15.0|\n",
            "|[6.0,199.0,90.0,2648.0,15.0,70.0] |21.0|\n",
            "|[6.0,199.0,97.0,2774.0,15.5,70.0] |18.0|\n",
            "|[8.0,304.0,150.0,3433.0,12.0,70.0]|16.0|\n",
            "|[8.0,455.0,225.0,3086.0,10.0,70.0]|14.0|\n",
            "|[8.0,350.0,165.0,3693.0,11.5,70.0]|15.0|\n",
            "|[8.0,307.0,130.0,3504.0,12.0,70.0]|18.0|\n",
            "|[8.0,454.0,220.0,4354.0,9.0,70.0] |14.0|\n",
            "|[8.0,400.0,150.0,3761.0,9.5,70.0] |15.0|\n",
            "|[8.0,307.0,200.0,4376.0,15.0,70.0]|10.0|\n",
            "|[8.0,383.0,170.0,3563.0,10.0,70.0]|15.0|\n",
            "|[8.0,318.0,210.0,4382.0,13.5,70.0]|11.0|\n",
            "|[8.0,360.0,215.0,4615.0,14.0,70.0]|10.0|\n",
            "|[8.0,429.0,198.0,4341.0,10.0,70.0]|15.0|\n",
            "|[6.0,200.0,85.0,2587.0,16.0,70.0] |21.0|\n",
            "|[8.0,302.0,140.0,3449.0,10.5,70.0]|17.0|\n",
            "|[8.0,304.0,193.0,4732.0,18.5,70.0]|9.0 |\n",
            "|[8.0,340.0,160.0,3609.0,8.0,70.0] |14.0|\n",
            "|[6.0,198.0,95.0,2833.0,15.5,70.0] |22.0|\n",
            "|[8.0,440.0,215.0,4312.0,8.5,70.0] |14.0|\n",
            "+----------------------------------+----+\n",
            "only showing top 20 rows\n",
            "\n"
          ]
        }
      ]
    },
    {
      "cell_type": "code",
      "source": [
        "# split the data\n",
        "train, test = df_transformed.randomSplit([0.7, 0.3], seed = 42)\n"
      ],
      "metadata": {
        "id": "IfFg016epv74"
      },
      "execution_count": 17,
      "outputs": []
    },
    {
      "cell_type": "code",
      "source": [
        "# Building and training a linear regression model\n",
        "lr = LinearRegression(featuresCol='features', labelCol='MPG')\n",
        "model = lr.fit(train)"
      ],
      "metadata": {
        "id": "bhhEdRYsqrge"
      },
      "execution_count": 18,
      "outputs": []
    },
    {
      "cell_type": "code",
      "source": [
        "# Evaluating the model\n",
        "forcast = model.transform(test)\n",
        "forcast.show(5)"
      ],
      "metadata": {
        "colab": {
          "base_uri": "https://localhost:8080/"
        },
        "id": "rmPkbcihr_lt",
        "outputId": "dba08dd2-da9c-4d35-9217-980af6a26b33"
      },
      "execution_count": 19,
      "outputs": [
        {
          "output_type": "stream",
          "name": "stdout",
          "text": [
            "+----+---------+-----------+----------+------+----------+----+--------+--------------------+------------------+\n",
            "| MPG|Cylinders|Engine Disp|Horsepower|Weight|Accelerate|Year|  Origin|            features|        prediction|\n",
            "+----+---------+-----------+----------+------+----------+----+--------+--------------------+------------------+\n",
            "|10.0|        8|      360.0|       215|  4615|      14.0|  70|American|[8.0,360.0,215.0,...|  6.68334402404847|\n",
            "|11.0|        8|      429.0|       208|  4633|      11.0|  72|American|[8.0,429.0,208.0,...| 8.344953219723397|\n",
            "|12.0|        8|      350.0|       180|  4499|      12.5|  73|American|[8.0,350.0,180.0,...|10.043420590827129|\n",
            "|12.0|        8|      383.0|       180|  4955|      11.5|  71|American|[8.0,383.0,180.0,...| 5.252194346982428|\n",
            "|13.0|        8|      302.0|       129|  3169|      12.0|  75|American|[8.0,302.0,129.0,...|21.473697417345075|\n",
            "+----+---------+-----------+----------+------+----------+----+--------+--------------------+------------------+\n",
            "only showing top 5 rows\n",
            "\n"
          ]
        }
      ]
    },
    {
      "cell_type": "code",
      "source": [
        "# R square for to check goodness of fit\n",
        "evaluator = RegressionEvaluator(labelCol='MPG', predictionCol='prediction', metricName='r2')\n",
        "evaluator.evaluate(forcast)\n",
        "#"
      ],
      "metadata": {
        "colab": {
          "base_uri": "https://localhost:8080/"
        },
        "id": "AMlAPKHQsmWT",
        "outputId": "e8e9ce43-09ce-4d3f-d200-519a5fb73846"
      },
      "execution_count": 20,
      "outputs": [
        {
          "output_type": "execute_result",
          "data": {
            "text/plain": [
              "0.8046190375720313"
            ]
          },
          "metadata": {},
          "execution_count": 20
        }
      ]
    },
    {
      "cell_type": "code",
      "source": [
        "# Using RMSE\n"
      ],
      "metadata": {
        "id": "QFYlyIQqsvMg"
      },
      "execution_count": null,
      "outputs": []
    }
  ]
}